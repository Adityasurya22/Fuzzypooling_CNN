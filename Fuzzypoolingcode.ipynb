{
  "nbformat": 4,
  "nbformat_minor": 0,
  "metadata": {
    "colab": {
      "provenance": []
    },
    "kernelspec": {
      "name": "python3",
      "display_name": "Python 3"
    },
    "language_info": {
      "name": "python"
    }
  },
  "cells": [
    {
      "cell_type": "markdown",
      "source": [
        "**Importing necessary libraries and dataset**\n",
        "**bold text**"
      ],
      "metadata": {
        "id": "meyM7y7CIVW8"
      }
    },
    {
      "cell_type": "code",
      "source": [
        "import numpy as np\n",
        "import tensorflow as tf\n",
        "from tensorflow.keras import layers, models\n",
        "from tensorflow.keras.datasets import mnist\n",
        "from tensorflow.keras.utils import to_categorical\n",
        "\n",
        "\n",
        "# Loading and preprocessing the MNIST dataset\n",
        "(x_train, y_train), (x_test, y_test) = mnist.load_data()\n",
        "\n",
        "# Normalize the pixel values to the range [0, 1]\n",
        "x_train = x_train.astype('float32') / 255\n",
        "x_test = x_test.astype('float32') / 255\n",
        "\n",
        "# Expand the dimensions to add a channel dimension for grayscale images\n",
        "x_train = np.expand_dims(x_train, axis=-1)\n",
        "x_test = np.expand_dims(x_test, axis=-1)\n",
        "\n",
        "# Convert labels to one-hot encoded format\n",
        "y_train = np.eye(10)[y_train]\n",
        "y_test = np.eye(10)[y_test]"
      ],
      "metadata": {
        "colab": {
          "base_uri": "https://localhost:8080/"
        },
        "id": "E813mbCrAETN",
        "outputId": "3ba7dbcf-d9d5-41bf-83b7-36997a604c04"
      },
      "execution_count": null,
      "outputs": [
        {
          "output_type": "stream",
          "name": "stdout",
          "text": [
            "Downloading data from https://storage.googleapis.com/tensorflow/tf-keras-datasets/mnist.npz\n",
            "\u001b[1m11490434/11490434\u001b[0m \u001b[32m━━━━━━━━━━━━━━━━━━━━\u001b[0m\u001b[37m\u001b[0m \u001b[1m0s\u001b[0m 0us/step\n"
          ]
        }
      ]
    },
    {
      "cell_type": "markdown",
      "source": [
        "# Performing Maxpooling"
      ],
      "metadata": {
        "id": "i3SUCskFInwz"
      }
    },
    {
      "cell_type": "code",
      "source": [
        "def LeNetwithMaxpooling():\n",
        "    cnn_model = models.Sequential()\n",
        "    cnn_model.add(layers.Conv2D(16, (3, 3), activation='relu', input_shape=(28, 28, 1), padding='same'))\n",
        "    cnn_model.add(layers.MaxPooling2D(pool_size=(2, 2)))\n",
        "    cnn_model.add(layers.Conv2D(32, (3, 3), activation='relu', padding='same'))\n",
        "    cnn_model.add(layers.MaxPooling2D(pool_size=(2, 2)))\n",
        "    cnn_model.add(layers.Flatten())\n",
        "    cnn_model.add(layers.Dense(32, activation='relu'))\n",
        "    cnn_model.add(layers.Dense(10, activation='softmax'))\n",
        "    return cnn_model\n",
        "\n",
        "def Training(cnn_model, training_data, validation_data, model_name, num_epochs=3, batch_size=32):\n",
        "    cnn_model.compile(optimizer='adam', loss='categorical_crossentropy', metrics=['accuracy'])\n",
        "    train_history = cnn_model.fit(\n",
        "        training_data[0], training_data[1],\n",
        "        epochs=num_epochs,\n",
        "        batch_size=batch_size,\n",
        "        validation_data=validation_data\n",
        "    )\n",
        "    test_loss, test_accuracy = cnn_model.evaluate(validation_data[0], validation_data[1], verbose=2)\n",
        "    print(f\"{model_name} Test Accuracy: {test_accuracy:.4f}\")\n",
        "    return train_history, test_loss, test_accuracy\n",
        "\n",
        "# Building and training the max pooling model\n",
        "optimized_cnn_model = LeNetwithMaxpooling()\n",
        "print(\"Training LeNet model using Max Pooling layer:\")\n",
        "history, test_loss, test_accuracy = Training(\n",
        "    optimized_cnn_model,\n",
        "    training_data=(x_train, y_train),\n",
        "    validation_data=(x_test, y_test),\n",
        "    model_name=\"Max Pooled\"\n",
        ")\n"
      ],
      "metadata": {
        "colab": {
          "base_uri": "https://localhost:8080/"
        },
        "id": "v6K4V4RvAFak",
        "outputId": "dafa60dd-9be6-400d-e6f7-f97bb0fdf4e0"
      },
      "execution_count": null,
      "outputs": [
        {
          "output_type": "stream",
          "name": "stdout",
          "text": [
            "Training LeNet model using Max Pooling layer:\n",
            "Epoch 1/3\n",
            "\u001b[1m1875/1875\u001b[0m \u001b[32m━━━━━━━━━━━━━━━━━━━━\u001b[0m\u001b[37m\u001b[0m \u001b[1m45s\u001b[0m 24ms/step - accuracy: 0.8811 - loss: 0.3977 - val_accuracy: 0.9827 - val_loss: 0.0523\n",
            "Epoch 2/3\n",
            "\u001b[1m1875/1875\u001b[0m \u001b[32m━━━━━━━━━━━━━━━━━━━━\u001b[0m\u001b[37m\u001b[0m \u001b[1m84s\u001b[0m 25ms/step - accuracy: 0.9803 - loss: 0.0632 - val_accuracy: 0.9861 - val_loss: 0.0403\n",
            "Epoch 3/3\n",
            "\u001b[1m1875/1875\u001b[0m \u001b[32m━━━━━━━━━━━━━━━━━━━━\u001b[0m\u001b[37m\u001b[0m \u001b[1m89s\u001b[0m 28ms/step - accuracy: 0.9867 - loss: 0.0434 - val_accuracy: 0.9869 - val_loss: 0.0392\n",
            "313/313 - 2s - 6ms/step - accuracy: 0.9869 - loss: 0.0392\n",
            "Max Pooled Test Accuracy: 0.9869\n"
          ]
        }
      ]
    },
    {
      "cell_type": "markdown",
      "source": [
        "# Performing Average Pooling"
      ],
      "metadata": {
        "id": "jbAAuwseItBw"
      }
    },
    {
      "cell_type": "code",
      "source": [
        "def LeNetwithAvgPooling():\n",
        "    cnn_model = models.Sequential()\n",
        "    cnn_model.add(layers.Conv2D(16, (3, 3), activation='relu', input_shape=(28, 28, 1), padding='same'))\n",
        "    cnn_model.add(layers.AveragePooling2D(pool_size=(2, 2)))  # Average Pooling Layer\n",
        "    cnn_model.add(layers.Conv2D(32, (3, 3), activation='relu', padding='same'))\n",
        "    cnn_model.add(layers.AveragePooling2D(pool_size=(2, 2)))  # Average Pooling Layer\n",
        "    cnn_model.add(layers.Flatten())\n",
        "    cnn_model.add(layers.Dense(32, activation='relu'))\n",
        "    cnn_model.add(layers.Dense(10, activation='softmax'))\n",
        "    return cnn_model\n",
        "\n",
        "# Building and training the average pooling model\n",
        "optimized_avg_pooling_model = LeNetwithAvgPooling()\n",
        "print(\"\\nTraining LeNet model using Average Pooling layer:\")\n",
        "\n",
        "avg_pooling_history, avg_pooling_test_loss, avg_pooling_test_accuracy = Training(\n",
        "    optimized_avg_pooling_model,\n",
        "    training_data=(x_train, y_train),\n",
        "    validation_data=(x_test, y_test),\n",
        "    model_name=\"Average Pooled\"\n",
        ")\n"
      ],
      "metadata": {
        "colab": {
          "base_uri": "https://localhost:8080/"
        },
        "id": "x9hbzf0MCeXJ",
        "outputId": "1577342a-c775-4b5e-da48-d4933d1db1b2"
      },
      "execution_count": null,
      "outputs": [
        {
          "output_type": "stream",
          "name": "stderr",
          "text": [
            "/usr/local/lib/python3.10/dist-packages/keras/src/layers/convolutional/base_conv.py:107: UserWarning: Do not pass an `input_shape`/`input_dim` argument to a layer. When using Sequential models, prefer using an `Input(shape)` object as the first layer in the model instead.\n",
            "  super().__init__(activity_regularizer=activity_regularizer, **kwargs)\n"
          ]
        },
        {
          "output_type": "stream",
          "name": "stdout",
          "text": [
            "Training LeNet model using Average Pooling Layer:\n",
            "Epoch 1/3\n",
            "\u001b[1m1875/1875\u001b[0m \u001b[32m━━━━━━━━━━━━━━━━━━━━\u001b[0m\u001b[37m\u001b[0m \u001b[1m41s\u001b[0m 21ms/step - accuracy: 0.8357 - loss: 0.5409 - val_accuracy: 0.9707 - val_loss: 0.0906\n",
            "Epoch 2/3\n",
            "\u001b[1m1875/1875\u001b[0m \u001b[32m━━━━━━━━━━━━━━━━━━━━\u001b[0m\u001b[37m\u001b[0m \u001b[1m37s\u001b[0m 20ms/step - accuracy: 0.9710 - loss: 0.0948 - val_accuracy: 0.9799 - val_loss: 0.0623\n",
            "Epoch 3/3\n",
            "\u001b[1m1875/1875\u001b[0m \u001b[32m━━━━━━━━━━━━━━━━━━━━\u001b[0m\u001b[37m\u001b[0m \u001b[1m46s\u001b[0m 22ms/step - accuracy: 0.9810 - loss: 0.0639 - val_accuracy: 0.9810 - val_loss: 0.0566\n",
            "313/313 - 2s - 8ms/step - accuracy: 0.9810 - loss: 0.0566\n",
            "Average Pooled Test Accuracy: 0.9810\n"
          ]
        }
      ]
    },
    {
      "cell_type": "markdown",
      "source": [
        "# Performing Fuzzy Pooling"
      ],
      "metadata": {
        "id": "PNtBR025Iylv"
      }
    },
    {
      "cell_type": "code",
      "source": [
        "class FuzzyPoolingLayer(layers.Layer):\n",
        "    def __init__(self, pool_size=(2, 2)):\n",
        "        super(FuzzyPoolingLayer, self).__init__()\n",
        "        self.pool_size = pool_size\n",
        "    # the three triangular membership functions\n",
        "    def first_membership(self, x, d, c):\n",
        "        return tf.where(x < c, 1.0, tf.where(x <= d, (d - x) / (d - c), 0.0))\n",
        "\n",
        "    def second_membership(self, x, a, m, b):\n",
        "        return tf.where(x < a, 0.0, tf.where(x <= m, (x - a) / (m - a), tf.where(x < b, (b - x) / (b - m), 0.0)))\n",
        "\n",
        "    def third_membership(self, x, r, q):\n",
        "        return tf.where(x < r, 0.0, tf.where(x <= q, (x - r) / (q - r), 1.0))\n",
        "\n",
        "    def call(self, inputs):\n",
        "        # parameters for the membership functions\n",
        "        pool_height, pool_width = self.pool_size\n",
        "        d, c = 3.0, 1.0\n",
        "        a, m, b = 1.5, 3.0, 4.5\n",
        "        r, q = 3.0, 4.5\n",
        "\n",
        "        # Patches from CNN\n",
        "        patches = tf.image.extract_patches(\n",
        "            images=inputs,\n",
        "            sizes=[1, pool_height, pool_width, 1],\n",
        "            strides=[1, pool_height, pool_width, 1],\n",
        "            rates=[1, 1, 1, 1],\n",
        "            padding='VALID'\n",
        "        )\n",
        "        # Reshape\n",
        "        batch_size, out_height, out_width, num_channels = tf.shape(inputs)[0], tf.shape(patches)[1], tf.shape(patches)[2], inputs.shape[-1]\n",
        "        patch_depth = pool_height * pool_width\n",
        "        patches = tf.reshape(patches, (-1, patch_depth, num_channels))\n",
        "\n",
        "        # Calculate membership for each patch\n",
        "        pi_1 = self.first_membership(patches, d, c)\n",
        "        pi_2 = self.second_membership(patches, a, m, b)\n",
        "        pi_3 = self.third_membership(patches, r, q)\n",
        "\n",
        "        # Aggregate fuzzy scores [sum of membership values in each layer]\n",
        "        spi_1 = tf.reduce_sum(pi_1, axis=1)\n",
        "        spi_2 = tf.reduce_sum(pi_2, axis=1)\n",
        "        spi_3 = tf.reduce_sum(pi_3, axis=1)\n",
        "\n",
        "        # Arg max step\n",
        "        scores = tf.stack([spi_1, spi_2, spi_3], axis=1)\n",
        "        max_score_idx = tf.argmax(scores, axis=1)\n",
        "        max_score_idx = tf.reshape(max_score_idx, (-1, 1, num_channels))\n",
        "\n",
        "        #Create the final Fuzzy patch by scores\n",
        "        pi_dash = tf.where(\n",
        "            tf.equal(max_score_idx, 0),\n",
        "            pi_1,\n",
        "            tf.where(\n",
        "                tf.equal(max_score_idx, 1),\n",
        "                pi_2,\n",
        "                pi_3\n",
        "            )\n",
        "        )\n",
        "\n",
        "        # Defuzzification using Center of Gravity(COG)\n",
        "        numerator = tf.reduce_sum(pi_dash * patches, axis=1)\n",
        "        denominator = tf.reduce_sum(pi_dash, axis=1)\n",
        "        returnlayer = tf.where(denominator != 0, numerator / denominator, tf.zeros_like(numerator))\n",
        "\n",
        "        return tf.reshape(returnlayer, (batch_size, out_height, out_width, num_channels))\n"
      ],
      "metadata": {
        "id": "folN6FZZAFdJ"
      },
      "execution_count": null,
      "outputs": []
    },
    {
      "cell_type": "code",
      "source": [
        "\n",
        "def build_fuzzy_pooling_cnn():\n",
        "    cnn_model = models.Sequential()\n",
        "    cnn_model.add(layers.Conv2D(16, (3, 3), activation='relu', input_shape=(28, 28, 1), padding='same'))\n",
        "    cnn_model.add(FuzzyPoolingLayer(pool_size=(2, 2)))  # Custom fuzzy pooling layer\n",
        "    cnn_model.add(layers.Conv2D(32, (3, 3), activation='relu', padding='same'))\n",
        "    cnn_model.add(layers.Flatten())\n",
        "    cnn_model.add(layers.Dense(32, activation='relu'))\n",
        "    cnn_model.add(layers.Dense(10, activation='softmax'))\n",
        "    return cnn_model\n",
        "\n",
        "# Building and training the fuzzy pooling model\n",
        "optimized_fuzzy_model = build_fuzzy_pooling_cnn()\n",
        "print(\"\\nTraining LeNet using Fuzzy Pooling layer:\")\n",
        "\n",
        "fuzzy_pooling_history, fuzzy_pooling_test_loss, fuzzy_pooling_test_accuracy = Training(\n",
        "    optimized_fuzzy_model,\n",
        "    training_data=(x_train, y_train),\n",
        "    validation_data=(x_test, y_test),\n",
        "    model_name=\"Fuzzy Pooling\"\n",
        ")\n"
      ],
      "metadata": {
        "colab": {
          "base_uri": "https://localhost:8080/"
        },
        "id": "bNjRqrwxAFfg",
        "outputId": "0c2462ce-3a53-46b8-e3c0-c41fa33c521e"
      },
      "execution_count": null,
      "outputs": [
        {
          "output_type": "stream",
          "name": "stderr",
          "text": [
            "/usr/local/lib/python3.10/dist-packages/keras/src/layers/convolutional/base_conv.py:107: UserWarning: Do not pass an `input_shape`/`input_dim` argument to a layer. When using Sequential models, prefer using an `Input(shape)` object as the first layer in the model instead.\n",
            "  super().__init__(activity_regularizer=activity_regularizer, **kwargs)\n"
          ]
        },
        {
          "output_type": "stream",
          "name": "stdout",
          "text": [
            "\n",
            "Training LeNet using Fuzzy Pooling layer:\n",
            "Epoch 1/3\n",
            "\u001b[1m1875/1875\u001b[0m \u001b[32m━━━━━━━━━━━━━━━━━━━━\u001b[0m\u001b[37m\u001b[0m \u001b[1m109s\u001b[0m 57ms/step - accuracy: 0.8863 - loss: 0.3665 - val_accuracy: 0.9795 - val_loss: 0.0620\n",
            "Epoch 2/3\n",
            "\u001b[1m1875/1875\u001b[0m \u001b[32m━━━━━━━━━━━━━━━━━━━━\u001b[0m\u001b[37m\u001b[0m \u001b[1m139s\u001b[0m 55ms/step - accuracy: 0.9811 - loss: 0.0650 - val_accuracy: 0.9857 - val_loss: 0.0443\n",
            "Epoch 3/3\n",
            "\u001b[1m1875/1875\u001b[0m \u001b[32m━━━━━━━━━━━━━━━━━━━━\u001b[0m\u001b[37m\u001b[0m \u001b[1m101s\u001b[0m 54ms/step - accuracy: 0.9874 - loss: 0.0401 - val_accuracy: 0.9880 - val_loss: 0.0380\n",
            "313/313 - 6s - 19ms/step - accuracy: 0.9880 - loss: 0.0380\n",
            "Fuzzy Pooling Test Accuracy: 0.9880\n"
          ]
        }
      ]
    }
  ]
}